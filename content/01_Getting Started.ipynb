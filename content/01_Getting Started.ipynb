{
  "metadata": {
    "language_info": {
      "codemirror_mode": {
        "name": "python",
        "version": 3
      },
      "file_extension": ".py",
      "mimetype": "text/x-python",
      "name": "python",
      "nbconvert_exporter": "python",
      "pygments_lexer": "ipython3",
      "version": "3.8"
    },
    "kernelspec": {
      "name": "python",
      "display_name": "Python (Pyodide)",
      "language": "python"
    }
  },
  "nbformat_minor": 4,
  "nbformat": 4,
  "cells": [
    {
      "cell_type": "markdown",
      "source": "# Example 1: Getting Started",
      "metadata": {}
    },
    {
      "cell_type": "markdown",
      "source": "A quarter model of a solid cube with hyperelastic material behaviour is subjected to a uniaxial elongation applied at a clamped end-face. This involves the creation of a mesh, a region as well as a displacement field (encapsulated in a field container). Furthermore, the boundary conditions are created by a template for a uniaxial loadcase. An isotropic pseudo-elastic Ogden-Roxburgh Mullins-softening model formulation in combination with an isotropic hyperelastic Neo-Hookean material formulation is applied on a nearly-incompressible solid body. A step generates the consecutive substep-movements of a given boundary condition. The step is further added to a list of steps of a job (here, a characteristic-curve job is used). During evaluation, each substep of each step is solved by an iterative Newton-Rhapson procedure. The solution is exported after each completed substep as a time-series XDMF file. For more details beside this high-level code snippet, please have a look at the documentation.",
      "metadata": {}
    },
    {
      "cell_type": "code",
      "source": "%pip install meshio h5py tensortrax felupe",
      "metadata": {
        "trusted": true
      },
      "execution_count": 2,
      "outputs": []
    },
    {
      "cell_type": "code",
      "source": "import felupe as fem\n\n# create a hexahedron-region on a cube\nmesh = fem.Cube(n=11)\nregion = fem.RegionHexahedron(mesh)\n\n# add a field container (with a vector-valued displacement field)\nfield = fem.FieldContainer([fem.Field(region, dim=3)])\n\n# apply a uniaxial elongation on the cube\nboundaries = fem.dof.uniaxial(field, clamped=True)[0]\n\n# define the constitutive material behaviour \n# and create a nearly-incompressible (u,p,J - formulation) solid body\numat = fem.OgdenRoxburgh(material=fem.NeoHooke(mu=1), r=3, m=1, beta=0)\nsolid = fem.SolidBodyNearlyIncompressible(umat, field, bulk=5000)\n\n# prepare a step with substeps\nmove = fem.math.linsteps([0, 2, 0], num=10)\nstep = fem.Step(\n    items=[solid], \n    ramp={boundaries[\"move\"]: move}, \n    boundaries=boundaries\n)\n\n# add the step to a job, evaluate all substeps and create a plot\njob = fem.CharacteristicCurve(steps=[step], boundary=boundaries[\"move\"])\njob.evaluate(filename=\"result.xdmf\")\nfig, ax = job.plot(\n    xlabel=\"Displacement $u$ in mm $\\longrightarrow$\",\n    ylabel=\"Normal Force $F$ in N $\\longrightarrow$\",\n)",
      "metadata": {
        "trusted": true
      },
      "execution_count": null,
      "outputs": [
        {
          "name": "stdout",
          "text": "\n _______  _______  ___      __   __  _______  _______ \n|       ||       ||   |    |  | |  ||       ||       |\n|    ___||    ___||   |    |  | |  ||    _  ||    ___|\n|   |___ |   |___ |   |    |  |_|  ||   |_| ||   |___ \n|    ___||    ___||   |___ |       ||    ___||    ___|\n|   |    |   |___ |       ||       ||   |    |   |___ \n|___|    |_______||_______||_______||___|    |_______|\nFElupe Version 6.2.5\n\n\nRun Job\n=======\n\nBegin Evaluation of Step 1.\n\nNewton-Rhapson solver\n=====================\n\n| # | norm(fun) |  norm(dx) |\n|---|-----------|-----------|\n| 1 | 0.000e+00 | 0.000e+00 |\n\nSolution converged in 1 iterations within 0.4606 seconds.\n\nSubstep 0/20 of Step 1/1 successful.\n\nNewton-Rhapson solver\n=====================\n\n| # | norm(fun) |  norm(dx) |\n|---|-----------|-----------|\n| 1 | 6.472e-01 | 5.729e+00 |\n| 2 | 1.387e+00 | 4.778e-01 |\n| 3 | 3.070e-03 | 6.011e-03 |\n| 4 | 2.504e-09 | 1.584e-06 |\n\nSolution converged in 4 iterations within 1.591 seconds.\n\nSubstep 1/20 of Step 1/1 successful.\n\nNewton-Rhapson solver\n=====================\n\n| # | norm(fun) |  norm(dx) |\n|---|-----------|-----------|\n| 1 | 8.069e-01 | 5.386e+00 |\n| 2 | 7.541e-01 | 2.998e-01 |\n| 3 | 3.428e-04 | 2.570e-03 |\n| 4 | 4.173e-10 | 4.697e-07 |\n\nSolution converged in 4 iterations within 1.57 seconds.\n\nSubstep 2/20 of Step 1/1 successful.\n\nNewton-Rhapson solver\n=====================\n\n| # | norm(fun) |  norm(dx) |\n|---|-----------|-----------|\n| 1 | 9.371e-01 | 5.193e+00 |\n| 2 | 3.759e-01 | 1.996e-01 |\n| 3 | 5.033e-05 | 1.449e-03 |\n| 4 | 9.663e-12 | 1.346e-07 |\n\nSolution converged in 4 iterations within 1.63 seconds.\n\nSubstep 3/20 of Step 1/1 successful.\n\nNewton-Rhapson solver\n=====================\n\n| # | norm(fun) |  norm(dx) |\n|---|-----------|-----------|\n| 1 | 1.010e+00 | 5.064e+00 |\n| 2 | 1.780e-01 | 1.417e-01 |\n| 3 | 2.916e-05 | 9.495e-04 |\n| 4 | 2.441e-12 | 6.442e-08 |\n\nSolution converged in 4 iterations within 1.653 seconds.\n\nSubstep 4/20 of Step 1/1 successful.\n\nNewton-Rhapson solver\n=====================\n\n| # | norm(fun) |  norm(dx) |\n|---|-----------|-----------|\n| 1 | 1.057e+00 | 4.966e+00 |\n| 2 | 9.314e-02 | 1.065e-01 |\n| 3 | 2.452e-05 | 6.363e-04 |\n| 4 | 2.339e-12 | 3.450e-08 |\n\nSolution converged in 4 iterations within 1.654 seconds.\n\nSubstep 5/20 of Step 1/1 successful.\n\nNewton-Rhapson solver\n=====================\n\n| # | norm(fun) |  norm(dx) |\n|---|-----------|-----------|\n| 1 | 1.095e+00 | 4.887e+00 |\n| 2 | 5.473e-02 | 8.379e-02 |\n| 3 | 2.617e-05 | 4.309e-04 |\n| 4 | 2.375e-12 | 2.236e-08 |\n\nSolution converged in 4 iterations within 1.657 seconds.\n\nSubstep 6/20 of Step 1/1 successful.\n\nNewton-Rhapson solver\n=====================\n\n| # | norm(fun) |  norm(dx) |\n|---|-----------|-----------|\n| 1 | 1.136e+00 | 4.820e+00 |\n| 2 | 3.598e-02 | 6.828e-02 |\n| 3 | 3.633e-05 | 3.192e-04 |\n",
          "output_type": "stream"
        }
      ]
    },
    {
      "cell_type": "code",
      "source": "",
      "metadata": {},
      "execution_count": null,
      "outputs": []
    }
  ]
}