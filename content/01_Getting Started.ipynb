{
  "metadata": {
    "language_info": {
      "codemirror_mode": {
        "name": "python",
        "version": 3
      },
      "file_extension": ".py",
      "mimetype": "text/x-python",
      "name": "python",
      "nbconvert_exporter": "python",
      "pygments_lexer": "ipython3",
      "version": "3.8"
    },
    "kernelspec": {
      "name": "python",
      "display_name": "Python (Pyodide)",
      "language": "python"
    }
  },
  "nbformat_minor": 4,
  "nbformat": 4,
  "cells": [
    {
      "cell_type": "markdown",
      "source": "# Example 1: Getting Started",
      "metadata": {}
    },
    {
      "cell_type": "markdown",
      "source": "A quarter model of a solid cube with hyperelastic material behaviour is subjected to a uniaxial elongation applied at a clamped end-face. This involves the creation of a mesh, a region as well as a displacement field (encapsulated in a field container). Furthermore, the boundary conditions are created by a template for a uniaxial loadcase. An isotropic pseudo-elastic Ogden-Roxburgh Mullins-softening model formulation in combination with an isotropic hyperelastic Neo-Hookean material formulation is applied on a nearly-incompressible solid body. A step generates the consecutive substep-movements of a given boundary condition. The step is further added to a list of steps of a job (here, a characteristic-curve job is used). During evaluation, each substep of each step is solved by an iterative Newton-Rhapson procedure. The solution is exported after each completed substep as a time-series XDMF file. For more details beside this high-level code snippet, please have a look at the documentation.",
      "metadata": {}
    },
    {
      "cell_type": "code",
      "source": "%pip install meshio h5py tensortrax matplotlib felupe feplot",
      "metadata": {
        "trusted": true
      },
      "execution_count": null,
      "outputs": []
    },
    {
      "cell_type": "code",
      "source": "import felupe as fem\n\n# create a hexahedron-region on a cube\nmesh = fem.Cube(n=11)\nregion = fem.RegionHexahedron(mesh)\n\n# add a field container (with a vector-valued displacement field)\nfield = fem.FieldContainer([fem.Field(region, dim=3)])\n\n# apply a uniaxial elongation on the cube\nboundaries = fem.dof.uniaxial(field, clamped=True)[0]\n\n# define the constitutive material behaviour \n# and create a nearly-incompressible (u,p,J - formulation) solid body\numat = fem.OgdenRoxburgh(material=fem.NeoHooke(mu=1), r=3, m=1, beta=0)\nsolid = fem.SolidBodyNearlyIncompressible(umat, field, bulk=5000)\n\n# prepare a step with substeps\nmove = fem.math.linsteps([0, 2, 0], num=10)\nstep = fem.Step(\n    items=[solid], \n    ramp={boundaries[\"move\"]: move}, \n    boundaries=boundaries\n)\n\n# add the step to a job, evaluate all substeps and create a plot\njob = fem.CharacteristicCurve(steps=[step], boundary=boundaries[\"move\"])\njob.evaluate(filename=\"result.xdmf\")\nfig, ax = job.plot(\n    xlabel=\"Displacement $u$ in mm $\\longrightarrow$\",\n    ylabel=\"Normal Force $F$ in N $\\longrightarrow$\",\n)",
      "metadata": {
        "trusted": true
      },
      "execution_count": null,
      "outputs": []
    }
  ]
}